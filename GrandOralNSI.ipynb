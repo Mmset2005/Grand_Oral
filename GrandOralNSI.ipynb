{
 "cells": [
  {
   "cell_type": "markdown",
   "metadata": {},
   "source": [
    "<h1 class='fa fa-code' style=\"color: Darkred\"> Sujet : L'IA</h1>"
   ]
  },
  {
   "cell_type": "markdown",
   "metadata": {},
   "source": [
    "<h4 class='fa fa-code' style=\"color: Brown\"> Problématique</h4>\n",
    "\n",
    "L'IA est-elle réellement intelligente ?"
   ]
  },
  {
   "cell_type": "markdown",
   "metadata": {},
   "source": [
    "<h4 class='fa fa-code' style=\"color: Brown\"> Intro sur Histoire de l'IA (Turing, algo et autres) + Principe de classification des niveaux d’intelligences </h4>\n",
    "\n",
    "Rédiger une explication simplifée (et rapidement)"
   ]
  },
  {
   "cell_type": "markdown",
   "metadata": {},
   "source": [
    "<h3 class='fa fa-code' style=\"color: Gold\"> Exemple concret : PAC MAN </h3>\n",
    "\n",
    "- rapide présentation du jeu (chercher des infos; ex : dates, chiffres, créateurs, etc...)\n",
    "\n",
    "- explications sur comportement des fantomes (paske personne sait ca en ft)\n",
    "\n",
    "- raprochement avec le sujet"
   ]
  },
  {
   "cell_type": "markdown",
   "metadata": {},
   "source": [
    "<h3 class='fa fa-code' style=\"color: Silver\"> Fantome 0 :</h3>\n",
    "\n",
    "Soit un fantome 0, ci-dessous ce trouve la liste des fonctions qu'il est capaple d'executer, le code complet n'est pas renseigné car assez compliqué a expliqué et on non nécéssaire a la présentation :"
   ]
  },
  {
   "cell_type": "code",
   "execution_count": 35,
   "metadata": {},
   "outputs": [],
   "source": [
    "def start() :\n",
    "    # le fantome contourne PACMAN por l'intercepter\n",
    "    pass\n",
    "\n",
    "def stop() :\n",
    "    # le fantome s'arrete\n",
    "    pass\n",
    "\n",
    "# la variable direction peut prendre 5 valeurs : ['Droite','Gauche','Haut','Bas','PACMAN']\n",
    "def sens_déplacement(direction) : \n",
    "    # le fantome se déplace dans la direction prise en paramètre\n",
    "    pass\n",
    "\n",
    "def sur_carrefour() :\n",
    "    # renvoie True si le fantome se trouve sur un carrefour\n",
    "    pass\n",
    "\n",
    "def liste_passages() :\n",
    "    # renvoie les directions ou le fantome peut tourner\n",
    "        pass\n",
    "\n",
    "def contourner():\n",
    "    # le fantome contourne PACMAN por l'intercepter\n",
    "    pass\n",
    "\n",
    "# il existe également ces deux fonctions, indépendantes des autres et du fantome\n",
    "def PACMAN_en_vie() :\n",
    "    # renvoie True si PACMAN est vivant, False sinon\n",
    "    pass\n",
    "\n",
    "def coordonnees_PACMAN():\n",
    "    # renvoie les coordonnées (x,y) de PAC MAN\n",
    "    pass"
   ]
  },
  {
   "cell_type": "markdown",
   "metadata": {},
   "source": [
    "<h5 class='fa fa-code' style=\"color: Gold\"> Passage a la POO </h5>\n",
    "\n",
    "Création de la classe Fantome, ses objets ont pour seul attribut une couleur. Elle reprend essentiellement le code du fantome 0 mais réadapté a une classe"
   ]
  },
  {
   "cell_type": "code",
   "execution_count": 34,
   "metadata": {},
   "outputs": [],
   "source": [
    "class Fantome : \n",
    "    def __init__(self,color):\n",
    "        self.couleur = color\n",
    "        self.nom = self\n",
    "    \n",
    "    def start(self):\n",
    "       # le fantome self commence a avancer\n",
    "       pass\n",
    "    \n",
    "    def stop(self):\n",
    "        # le fantome self s'arrete\n",
    "        pass\n",
    "\n",
    "    def sens_déplacement(self,direction) :\n",
    "        # le fantome self se déplace dans la direction prise en paramètre\n",
    "        pass\n",
    "\n",
    "    def sur_carrefour(self) :\n",
    "        # renvoie True si le fantome self se trouve sur un carrefour\n",
    "        pass\n",
    "\n",
    "    def liste_passages(self) :\n",
    "        # renvoie les directions ou le fantome self peut tourner\n",
    "        pass\n",
    "\n",
    "    def contourner(self,direction):\n",
    "        # le fantome self contourne poue se diriger dans la direction donnée\n",
    "        pass\n",
    "\n",
    "    def coordonnees(self) : \n",
    "        # renvoie les coordonées (x,y) du fantome self\n",
    "        pass"
   ]
  },
  {
   "cell_type": "markdown",
   "metadata": {},
   "source": [
    "Dans PAC MAN chaque fantome agit différement, les codes ci dessous sont des représentations de leurs mouvements, il est impossible de recréer le jeu sur une si petite feuille\n",
    "\n",
    "Tout les fantomes sont des objets de type fantome et possèdent donc les attributs et méthodes de cette dernière "
   ]
  },
  {
   "cell_type": "markdown",
   "metadata": {},
   "source": [
    "<h3 class='fa fa-code' style=\"color: Orange\"> Clyde :</h3>\n",
    "\n",
    "<h5 class='fa fa-code' style=\"color: Orange\">Se déplace de manière complétement aléatoire, sans prendre en compte PAC MAN -> Bête</h5>"
   ]
  },
  {
   "cell_type": "code",
   "execution_count": 10,
   "metadata": {},
   "outputs": [],
   "source": [
    "from random import randint\n",
    "\n",
    "Clyde = Fantome('orange')\n",
    "directions = ['Droite','Gauche','Haut','Bas','PACMAN']\n",
    "\n",
    "def patern_Clyde():\n",
    "    Clyde.start()\n",
    "    while PACMAN_en_vie():\n",
    "        if Clyde.sur_carrefour():\n",
    "            # déplacement dans une direction aléatoire\n",
    "            i = randint(0, len(Clyde.liste_passages()))\n",
    "            Clyde.sens_déplacement(Clyde.liste_passages[i])\n",
    "    # à la capture de PAC MAN\n",
    "    Clyde.stop()"
   ]
  },
  {
   "cell_type": "markdown",
   "metadata": {},
   "source": [
    "<h3 class='fa fa-code' style=\"color: Cyan\"> Inky :</h3>\n",
    "\n",
    "<h5 class='fa fa-code' style=\"color: Cyan\"> Se déplace 60% du temps vers PAC MAN et 40% du temps de manière aléatoire -> Capricieux/Lunaire </h5>"
   ]
  },
  {
   "cell_type": "code",
   "execution_count": null,
   "metadata": {},
   "outputs": [],
   "source": [
    "from random import *\n",
    "\n",
    "Inky = Fantome('cyan')\n",
    "directions = ['Droite','Gauche','Haut','Bas','PACMAN']\n",
    "\n",
    "def patern_Inky():\n",
    "    Inky.start()\n",
    "    while PACMAN_en_vie():\n",
    "        if Inky.sur_carrefour():\n",
    "            # on prends un nombre décimal aléatoire compris entre 0 et 1 pour calculer le pourcentage relatif au déplacement\n",
    "            mood = random()\n",
    "            # 60% du temps\n",
    "            if mood <= 0.6 :\n",
    "                # déplacement vers PAC MAN\n",
    "                Inky.sens_déplacement('PACMAN')\n",
    "            # les 40% restants\n",
    "            else :\n",
    "                # déplacement dans une direction aléatoire\n",
    "                i = randint(0, len(Inky.liste_passages()))\n",
    "                Inky.sens_déplacement(Inky.liste_passages[i])\n",
    "    # à la capture de PAC MAN\n",
    "    Inky.stop()"
   ]
  },
  {
   "cell_type": "markdown",
   "metadata": {},
   "source": [
    "<h3 class='fa fa-code' style=\"color: Red\"> Blinky :</h3>\n",
    "\n",
    "<h5 class='fa fa-code' style=\"color: Red\"> Se déplace constament vers PAC MAN via le chemin le plus direct, ne s'arêtant qu'une fois ce dernier capturé -> Déterminé </h5>"
   ]
  },
  {
   "cell_type": "code",
   "execution_count": null,
   "metadata": {},
   "outputs": [],
   "source": [
    "Blinky = Fantome('rouge')\n",
    "directions = ['Droite','Gauche','Haut','Bas','PACMAN']\n",
    "\n",
    "def patern_Blinky():\n",
    "    Blinky.start()\n",
    "    while PACMAN_en_vie():\n",
    "        if Blinky.sur_carrefour():\n",
    "            # se déplace vers PAC MAN de facon directe\n",
    "            Blinky.sens_déplacement('PACMAN')\n",
    "    # à le capture de PAC MAN\n",
    "    Blinky.stop()"
   ]
  },
  {
   "cell_type": "markdown",
   "metadata": {},
   "source": [
    "<h3 class='fa fa-code' style=\"color: Magenta\"> Pinky :</h3>\n",
    "\n",
    "<h5 class='fa fa-code' style=\"color: Magenta\"> Se déplace en contournant PAC MAN pour essayer de l'intercepter -> Malin</h5>"
   ]
  },
  {
   "cell_type": "code",
   "execution_count": null,
   "metadata": {},
   "outputs": [],
   "source": [
    "Pinky = Fantome('rose')\n",
    "directions = ['Droite','Gauche','Haut','Bas','PACMAN']\n",
    "\n",
    "def patern_Blinky():\n",
    "    Pinky.start()\n",
    "    while PACMAN_en_vie():\n",
    "        if Pinky.sur_carrefour():\n",
    "            # se déplace vers PAC MAN en le contournant\n",
    "            Pinky.contourner('PACMAN')\n",
    "    # à le capture de PAC MAN\n",
    "    Pinky.stop()"
   ]
  },
  {
   "cell_type": "markdown",
   "metadata": {},
   "source": [
    "On constate ici une difference entre les fantomes, certains ont l'air plus \"intelligents\" que d'autres\n",
    "\n",
    "Mais cette apparente intelligence n'existe pas, rapellez vous les fantomes sont tout les 4 des objets de meme type, leur seule différence est l'algorithme qu'ils exexutent\n",
    "\n",
    "C'est cette différence de comportement qui fait penser a de l'intelligence mais ce n'en est absolument pas\n",
    "___"
   ]
  },
  {
   "cell_type": "markdown",
   "metadata": {},
   "source": [
    "Maintenant, imaginons un nouveau fantome doté d'une \"intelligence artificielle\"\n",
    "\n",
    "Il serait capable de récolter des informations sur le joueur en temps réel et d'étudier ses réactions et déplacement lors de différentes situations\n",
    "\n",
    "Il pourrait ensuite adapter sa stratégie en fonction de ces données et battre le joueur\n",
    "\n",
    "Pour avoir une chance le joueur doit de ce fait constament changer de stratégie et de déplacements, mais il va vite être limité par ses compétences et son imagination face à la machine\n",
    "\n",
    "Voici un apercu de ce que donnerait un tel Fantome :"
   ]
  },
  {
   "cell_type": "markdown",
   "metadata": {},
   "source": [
    "<h3 class='fa fa-code' style=\"color: Indigo\"> Sasky :</h3>\n",
    "\n",
    "<h5 class='fa fa-code' style=\"color: Indigo\"> S'adapte a son adversaire et monte en puissance au fur et à mesure de la partie -> Intelligent</h5>"
   ]
  },
  {
   "cell_type": "code",
   "execution_count": 33,
   "metadata": {},
   "outputs": [],
   "source": [
    "class Fantome_bis : \n",
    "    def __init__(self,color):\n",
    "        self.couleur = color\n",
    "        self.nom = self\n",
    "    \n",
    "    def start(self):\n",
    "       # le fantome self commence a avancer\n",
    "       pass\n",
    "    \n",
    "    def stop(self):\n",
    "        # le fantome self s'arrete\n",
    "        pass\n",
    "\n",
    "    def sens_déplacement(self,direction) :\n",
    "        # le fantome self se déplace dans la direction prise en paramètre\n",
    "        pass\n",
    "\n",
    "    def sur_carrefour(self) :\n",
    "        # renvoie True si le fantome self se trouve sur un carrefour\n",
    "        pass\n",
    "\n",
    "    def liste_passages(self) :\n",
    "        # renvoie les directions ou le fantome self peut tourner\n",
    "        pass\n",
    "\n",
    "    def coordonnees(self) : \n",
    "        # renvoie les coordonées (x,y) du fantome self\n",
    "        pass\n",
    "\n",
    "    def apprentissage(self,tab):\n",
    "        # le fantome self teste un comportement en fonction de ses connaissances et l'enregistre dans sa base de donnée\n",
    "        pass"
   ]
  },
  {
   "cell_type": "code",
   "execution_count": 38,
   "metadata": {},
   "outputs": [],
   "source": [
    "Sasky = Fantome_bis('violet')\n",
    "directions = ['Droite','Gauche','Haut','Bas']\n",
    "\n",
    "\n",
    "Base_de_données = [\n",
    "    {'Numéro' : 1, 'Position PACMAN' : coordonnees_PACMAN(), 'Position SASKY' : Sasky.coordonnees() , 'direction PACMAN' : directions, 'direction SASKY' : directions, 'résultat' : 'capture/non_capture', 'etc' :'donnée' }, \n",
    "    {'Numéro' : 2, 'Position PACMAN' : coordonnees_PACMAN(), 'Position SASKY' : Sasky.coordonnees(), 'direction PACMAN' : directions, 'direction SASKY' : directions, 'résultat' : 'capture/non_capture', 'etc' : 'donnée'},\n",
    "    {'Numéro' : 3, 'Position PACMAN' : coordonnees_PACMAN(), 'Position SASKY' : Sasky.coordonnees(), 'direction PACMAN' : directions, 'direction SASKY' : directions, 'résultat' : 'capture/non_capture', 'etc' : 'donnée'},\n",
    "    {'Numéro' : 4, 'Position PACMAN' : coordonnees_PACMAN(), 'Position SASKY' : Sasky.coordonnees(), 'direction PACMAN' : directions, 'direction SASKY' : directions, 'résultat' : 'capture/non_capture', 'etc' : 'donnée'},\n",
    "    # {.......}, \n",
    "    {'Numéro' : 'n', 'Position PACMAN' : coordonnees_PACMAN(), 'Position SASKY' : Sasky.coordonnees(), 'direction PACMAN' : directions, 'direction SASKY' : directions, 'résultat' : 'capture/non  capture', 'etc' : 'donnée'}\n",
    "    ]\n",
    "\n",
    "\n",
    "def patern_Sasky():\n",
    "    Sasky.start()\n",
    "    while PACMAN_en_vie():\n",
    "        # le fantome teste un déplacement et enregistre les résultats dans sa base de donée\n",
    "        Sasky.apprentissage(Base_de_données)\n",
    "    # a la capture de PACMAN\n",
    "    Sasky.stop()"
   ]
  },
  {
   "cell_type": "markdown",
   "metadata": {},
   "source": [
    "<h4 class='fa fa-code' style=\"color: Brown\"> Raprochement Sasky avec machines existantes</h4>\n",
    "\n",
    "- Deep Blue (échecs)\n",
    "\n",
    "- AlphaGo (jeu de go)\n",
    "\n",
    "- autres exemples a chercher"
   ]
  },
  {
   "cell_type": "markdown",
   "metadata": {},
   "source": [
    "<h4 class='fa fa-code' style=\"color: Brown\"> Conclusion</h4>"
   ]
  },
  {
   "cell_type": "markdown",
   "metadata": {},
   "source": [
    "- machines sont perfectionnées mais nowhere close to intelligence humaine\n",
    "\n",
    "- intelligence en philo (homme/animal)\n",
    "\n",
    "- suppositions futures\n",
    "\n",
    "-> résumer tout ça en une ou deux phrases stylées"
   ]
  },
  {
   "cell_type": "markdown",
   "metadata": {},
   "source": [
    "<h4 class='fa fa-code' style=\"color: LightGreen\"> Implémentation si je m'ennuie</h4>\n",
    "\n",
    "- a faire sur pygames\n",
    "\n",
    "- besoin de python 32 bits\n",
    "\n",
    "- exemples d'implémentations deja existante -> possibilité de reprise avec modifs\n",
    "\n"
   ]
  }
 ],
 "metadata": {
  "interpreter": {
   "hash": "a3d0e8e0c817ae3c7f78f66b04bafeb63523a0a50e6405ec1b074461715681e4"
  },
  "kernelspec": {
   "display_name": "Python 3.10.0 64-bit",
   "language": "python",
   "name": "python3"
  },
  "language_info": {
   "codemirror_mode": {
    "name": "ipython",
    "version": 3
   },
   "file_extension": ".py",
   "mimetype": "text/x-python",
   "name": "python",
   "nbconvert_exporter": "python",
   "pygments_lexer": "ipython3",
   "version": "3.10.0"
  },
  "toc": {
   "base_numbering": 1,
   "nav_menu": {},
   "number_sections": true,
   "sideBar": true,
   "skip_h1_title": false,
   "title_cell": "Table of Contents",
   "title_sidebar": "Contents",
   "toc_cell": false,
   "toc_position": {},
   "toc_section_display": true,
   "toc_window_display": false
  },
  "varInspector": {
   "cols": {
    "lenName": 16,
    "lenType": 16,
    "lenVar": 40
   },
   "kernels_config": {
    "python": {
     "delete_cmd_postfix": "",
     "delete_cmd_prefix": "del ",
     "library": "var_list.py",
     "varRefreshCmd": "print(var_dic_list())"
    },
    "r": {
     "delete_cmd_postfix": ") ",
     "delete_cmd_prefix": "rm(",
     "library": "var_list.r",
     "varRefreshCmd": "cat(var_dic_list()) "
    }
   },
   "types_to_exclude": [
    "module",
    "function",
    "builtin_function_or_method",
    "instance",
    "_Feature"
   ],
   "window_display": false
  }
 },
 "nbformat": 4,
 "nbformat_minor": 4
}
